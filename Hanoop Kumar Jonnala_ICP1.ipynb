{
 "cells": [
  {
   "cell_type": "code",
   "execution_count": 3,
   "id": "6cb05b42-59c0-4b3a-b2b1-65744bf218c3",
   "metadata": {},
   "outputs": [
    {
     "name": "stdin",
     "output_type": "stream",
     "text": [
      "enter first name :  Hanoop Kumar\n",
      "enter last name :  Jonnala\n"
     ]
    },
    {
     "name": "stdout",
     "output_type": "stream",
     "text": [
      "User full name :  Hanoop Kumar Jonnala\n",
      "Alternatively formatted name :  Hno ua onl\n"
     ]
    }
   ],
   "source": [
    "#Enter the first name by user\n",
    "first_name= input(\"enter first name : \")\n",
    "#Enter the last name by user\n",
    "last_name= input(\"enter last name : \")\n",
    "\n",
    "#full_name is both first name and last name\n",
    "def full_name(first_name,last_name):\n",
    "    return first_name +\" \"+last_name\n",
    "#string_alternative function will prints the data alternatively\n",
    "def string_alternative(full_name):\n",
    "    output_str = \"\"\n",
    "    for index in range(0,len(full_name),2):\n",
    "                       output_str+=full_name[index]        \n",
    "    return output_str               \n",
    "\n",
    "\n",
    "print(\"User full name : \",full_name(first_name,last_name))\n",
    "\n",
    "print(\"Alternatively formatted name : \",string_alternative(full_name(first_name,last_name)))"
   ]
  },
  {
   "cell_type": "code",
   "execution_count": 7,
   "id": "e912fd0e-dc67-44d0-81c1-63eee2b15af4",
   "metadata": {},
   "outputs": [],
   "source": [
    "#Read the Input file from Home\n",
    "Input_file = open(\"Input.txt\", \"r\")\n",
    "#Write the number of words count and split the data from input file\n",
    "output_file = open(\"output.txt\", \"w\")\n",
    "\n",
    "content = {}\n",
    "\n",
    "\n",
    "for line in Input_file:\n",
    "    output_file.write(line)\n",
    "    new_l = line.split()\n",
    "    for x in new_l:\n",
    "        if(content.get(x)==None):\n",
    "            content[x]=1\n",
    "        else:\n",
    "            content[x] = content[x] + 1\n",
    "            \n",
    "output_file.write(\" Word_Count : \")\n",
    "for key, value in content.items(): \n",
    "        output_file.write('%s:%s\\n' % (key, value))\n",
    "Input_file.close()\n",
    "output_file.close()"
   ]
  },
  {
   "cell_type": "code",
   "execution_count": 13,
   "id": "22c3fd66-81be-4457-8c0b-77bf46081b80",
   "metadata": {},
   "outputs": [
    {
     "name": "stdin",
     "output_type": "stream",
     "text": [
      "Enter the no.of Elements in the list:  3\n",
      "enter customer heights :  150\n",
      "enter customer heights :  175\n",
      "enter customer heights :  200\n"
     ]
    },
    {
     "name": "stdout",
     "output_type": "stream",
     "text": [
      "Heights in Centimeters:  [381.0, 444.5, 508.0]\n"
     ]
    }
   ],
   "source": [
    "def inchToCent(value):\n",
    "    return value*2.54\n",
    "\n",
    "#Read the input data of customer heights in inches\n",
    "Customer_heights=[]\n",
    "Centimeters_heights=[]\n",
    "Elements=int(input('Enter the no.of Elements in the list: '))\n",
    "\n",
    "for i in range(Elements):\n",
    "    data = int(input(\"enter customer heights : \"))\n",
    "    Customer_heights.append(data)\n",
    "\n",
    "for element in Customer_heights:\n",
    "    value=int(element)\n",
    "    Centimeters_heights.append(inchToCent(value))\n",
    "print(\"Heights in Centimeters: \", Centimeters_heights)\n"
   ]
  },
  {
   "cell_type": "code",
   "execution_count": null,
   "id": "6cfbea99-a53b-4027-9d73-d06c87895520",
   "metadata": {},
   "outputs": [],
   "source": []
  }
 ],
 "metadata": {
  "kernelspec": {
   "display_name": "Python 3 (ipykernel)",
   "language": "python",
   "name": "python3"
  },
  "language_info": {
   "codemirror_mode": {
    "name": "ipython",
    "version": 3
   },
   "file_extension": ".py",
   "mimetype": "text/x-python",
   "name": "python",
   "nbconvert_exporter": "python",
   "pygments_lexer": "ipython3",
   "version": "3.11.7"
  }
 },
 "nbformat": 4,
 "nbformat_minor": 5
}
